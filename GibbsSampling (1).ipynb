{
  "cells": [
    {
      "cell_type": "code",
      "execution_count": 1,
      "metadata": {
        "id": "O0hT2i72F5_8"
      },
      "outputs": [],
      "source": [
        "from random import randint, uniform"
      ]
    },
    {
      "cell_type": "code",
      "execution_count": 2,
      "metadata": {
        "id": "csAztXgsF5__"
      },
      "outputs": [],
      "source": [
        "class Profile:\n",
        "\n",
        "    def __init__(self, k, motifs = []):\n",
        "        self.matrix = [{'A': 0, 'C': 0, 'G': 0, 'T': 0}.copy() for i in range(k)]\n",
        "        self.k = k\n",
        "        self.size = len(motifs)\n",
        "        for motif in motifs:\n",
        "            for i in range(self.k):\n",
        "                self.matrix[i][motif[i]] += 1\n",
        "\n",
        "    def add(self, motif):\n",
        "        self.size += 1\n",
        "        for i in range(self.k):\n",
        "            self.matrix[i][motif[i]] += 1\n",
        "                      \n",
        "    def score(self, motif):\n",
        "        value = 1.0\n",
        "        for i in range(self.k):\n",
        "            value *= (self.matrix[i][motif[i]] + 1) / (self.size + 2)\n",
        "            \n",
        "        return value\n"
      ]
    },
    {
      "cell_type": "code",
      "execution_count": 3,
      "metadata": {
        "id": "Pr7G2GJdF6AA"
      },
      "outputs": [],
      "source": [
        "def most_probable(profile, string):\n",
        "    best_score = 0.0\n",
        "    k = profile.k\n",
        "    mp_kmer = string[0:k]\n",
        "    \n",
        "    for i in range(len(string)-k+1):\n",
        "        kmer = string[i:i+k]\n",
        "        \n",
        "        if profile.score(kmer) > best_score:\n",
        "            best_score = profile.score(kmer)\n",
        "            mp_kmer = kmer\n",
        "    \n",
        "    return mp_kmer"
      ]
    },
    {
      "cell_type": "code",
      "execution_count": 4,
      "metadata": {
        "id": "SqKd_K4GF6AA"
      },
      "outputs": [],
      "source": [
        "def score(motifs):\n",
        "    k = len(motifs[0])\n",
        "    p = Profile(k, motifs)\n",
        "    \n",
        "    value = 0\n",
        "    for i in range(k):\n",
        "        max_freq = max(p.matrix[i].values())\n",
        "        cons_letter = 'A'\n",
        "        for letter in p.matrix[i].keys():\n",
        "            if p.matrix[i][letter] == max_freq: cons_letter = letter\n",
        "                \n",
        "        for j in range(len(motifs)):\n",
        "            if motifs[j][i] != cons_letter:\n",
        "                value += 1\n",
        "                \n",
        "    return value"
      ]
    },
    {
      "cell_type": "code",
      "execution_count": 5,
      "metadata": {
        "id": "68uRECg5F6AB"
      },
      "outputs": [],
      "source": [
        "def make_motifs(profile, dna):\n",
        "    motifs = []\n",
        "    for string in dna:\n",
        "        motifs.append(most_probable(profile, string))\n",
        "        \n",
        "    return motifs       "
      ]
    },
    {
      "cell_type": "code",
      "execution_count": 6,
      "metadata": {
        "id": "5EofycfDF6AB"
      },
      "outputs": [],
      "source": [
        "def random_motif(string, k):\n",
        "    pos = randint(0, len(string)-k)\n",
        "    \n",
        "    return string[pos:pos+k]"
      ]
    },
    {
      "cell_type": "code",
      "execution_count": 7,
      "metadata": {
        "id": "PGD_02NBF6AC"
      },
      "outputs": [],
      "source": [
        "def random_dist_motif(string, profile):\n",
        "    k = profile.k\n",
        "    scores = [profile.score(string[i:i+k]) for i in range(len(string)-k+1)]  \n",
        "    max_number = sum(scores)\n",
        "    random_number = uniform(0, max_number)\n",
        " \n",
        "    pos = -1\n",
        "    while random_number >= 0:\n",
        "        pos += 1\n",
        "        random_number -= scores[pos]\n",
        "         \n",
        "    return string[pos:pos+k]"
      ]
    },
    {
      "cell_type": "code",
      "execution_count": 8,
      "metadata": {
        "id": "JkV8aKZ_F6AC"
      },
      "outputs": [],
      "source": [
        "def GibbsSampler(dna, k, t, N):\n",
        "    Motifs = [random_motif(string, k) for string in dna]\n",
        "    bestMotifs = Motifs\n",
        "    \n",
        "    for j in range(N):\n",
        "        i = randint(0, t-1)\n",
        "        p = Profile(k, Motifs[0:i] + Motifs[i+1:])\n",
        "        Motifs[i] = random_dist_motif(dna[i], p)\n",
        " \n",
        "        if score(Motifs) < score(bestMotifs):\n",
        "            bestMotifs = Motifs\n",
        "            \n",
        "    return bestMotifs"
      ]
    },
    {
      "cell_type": "code",
      "execution_count": 9,
      "metadata": {
        "scrolled": false,
        "id": "yJWnpiALF6AD"
      },
      "outputs": [],
      "source": [
        "filename = '/content/rosalind_ba2g (3).txt'"
      ]
    },
    {
      "cell_type": "code",
      "execution_count": 10,
      "metadata": {
        "id": "r0-Em1ruF6AD"
      },
      "outputs": [],
      "source": [
        "with open(filename) as file:\n",
        "    k, t, N = [int(x) for x in file.readline().split()]\n",
        "    dna = []\n",
        "    for line in file:\n",
        "        dna.append(line.rstrip())"
      ]
    },
    {
      "cell_type": "code",
      "execution_count": 11,
      "metadata": {
        "scrolled": true,
        "id": "H65PmxopF6AE"
      },
      "outputs": [],
      "source": [
        "from tqdm import tqdm"
      ]
    },
    {
      "cell_type": "code",
      "execution_count": 12,
      "metadata": {
        "colab": {
          "base_uri": "https://localhost:8080/"
        },
        "id": "OicVIx8RF6AE",
        "outputId": "5832e13a-c01e-433b-9ee2-fae12abe1e78"
      },
      "outputs": [
        {
          "output_type": "stream",
          "name": "stderr",
          "text": [
            "100%|██████████| 19/19 [00:56<00:00,  2.96s/it]\n"
          ]
        }
      ],
      "source": [
        "bestMotifs = GibbsSampler(dna, k, t, N)\n",
        "\n",
        "for i in tqdm(range(20 - 1)):\n",
        "    motifs = GibbsSampler(dna, k, t, N)\n",
        "    if score(motifs) < score(bestMotifs):\n",
        "        bestMotifs = motifs"
      ]
    },
    {
      "cell_type": "code",
      "execution_count": 13,
      "metadata": {
        "scrolled": true,
        "colab": {
          "base_uri": "https://localhost:8080/"
        },
        "id": "dw1Lag5BF6AF",
        "outputId": "433e1ba2-3390-40ba-d4d7-aca06111eee6"
      },
      "outputs": [
        {
          "output_type": "stream",
          "name": "stdout",
          "text": [
            "AGCATAGGCTAAGCA\n",
            "AGCTCAGGCAATAGA\n",
            "AGCAACACCAATAGA\n",
            "AGCAAGGGTTGTAGA\n",
            "AGCACCTGCAATAGA\n",
            "TCGAAGGGCAATAGA\n",
            "AGCGAAGTAAATAGA\n",
            "GGCAAGGGCAATATG\n",
            "AGCACTAGCAATAGA\n",
            "AAAGAGGGCAATAGA\n",
            "AGCAAGGTTCATAGA\n",
            "AGCAAGGGCACCTGA\n",
            "AGCAAGGGCAATCAT\n",
            "AGCAAGTAGAATAGA\n",
            "AGCCTTGGCAATAGA\n",
            "AGCAACACCAATAGA\n",
            "AGCAAGGGCAACTCA\n",
            "AGCAAGGGCTGCAGA\n",
            "AGCAAGTTGAATAGA\n",
            "AGACCGGGCAATAGA\n"
          ]
        }
      ],
      "source": [
        "for motif in bestMotifs:\n",
        "    print(motif)"
      ]
    }
  ],
  "metadata": {
    "kernelspec": {
      "display_name": "Python 3",
      "language": "python",
      "name": "python3"
    },
    "language_info": {
      "codemirror_mode": {
        "name": "ipython",
        "version": 3
      },
      "file_extension": ".py",
      "mimetype": "text/x-python",
      "name": "python",
      "nbconvert_exporter": "python",
      "pygments_lexer": "ipython3",
      "version": "3.8.3"
    },
    "colab": {
      "name": "GibbsSampling.ipynb",
      "provenance": []
    }
  },
  "nbformat": 4,
  "nbformat_minor": 0
}